{
 "cells": [
  {
   "cell_type": "code",
   "execution_count": null,
   "id": "958be0c0-948d-4d42-9db2-d4f5269aa213",
   "metadata": {},
   "outputs": [],
   "source": [
    "import numpy as np # pandas is for working with dataframes (structured data)\n",
    "import pandas as pd # numpy for numerical data"
   ]
  },
  {
   "cell_type": "code",
   "execution_count": null,
   "id": "2063a57a-1c7f-4230-8490-b44badbbcd3e",
   "metadata": {},
   "outputs": [],
   "source": [
    "#random seed ensures you can reprdouce results\n",
    "np.random.seed(42)\n",
    "\n",
    "# generate a dataset with 10 users (rows) and attributes (columns)\n",
    "#age refers to user age\n",
    "# preference_1 to preference_2 represents how much the user likes certain topics\n",
    "\n",
    "data = pd.DataFrame({\n",
    "    'user_id': range(1, 11,  #create 10 user ID's from 1 to 10\n",
    "    'age' : np.random.randint(18, 45, size = 10), # 10 random ages between 18 and 45\n",
    "    'preference_1': np.random.rand(10),         # Random preferences between 0 and 1 for topic 1\n",
    "    'preference_2': np.random.rand(10),         # Random preferences between 0 and 1 for topic 2\n",
    "    'preference_3': np.random.rand(10),         # Random preferences between 0 and 1 for topic 3\n",
    "    'preference_4': np.random.rand(10)          # Random preferences between 0 and 1 for topic 4\n",
    "})\n",
    "\n",
    "# Setting 'user_id' as the index, because each row should correspond to a unique user\n",
    "data.set_index('user_id', inplace=True)\n",
    "\n",
    "# Displaying the first 5 rows of the generated dataset\n",
    "data.head()\n"
   ]
  },
  {
   "cell_type": "code",
   "execution_count": null,
   "id": "04b5039d-8f36-4283-b347-ee672083f102",
   "metadata": {},
   "outputs": [],
   "source": [
    "# Normalizing the dataset: scaling age to be between 0 and 1, similar to the preferences\n",
    "from sklearn.preprocessing import MinMaxScaler\n",
    "\n",
    "# Selecting only the features we want to normalize (age and preferences)\n",
    "features = data[['age', 'preference_1', 'preference_2', 'preference_3', 'preference_4']]\n",
    "\n",
    "# MinMaxScaler scales features to a range between 0 and 1\n",
    "scaler = MinMaxScaler()\n",
    "scaled_features = scaler.fit_transform(features)\n",
    "\n",
    "# Convert the scaled features back into a DataFrame\n",
    "scaled_data = pd.DataFrame(scaled_features, columns=features.columns, index=data.index)\n",
    "\n",
    "# Displaying the first 5 rows of the normalized dataset\n",
    "scaled_data.head()\n"
   ]
  },
  {
   "cell_type": "code",
   "execution_count": null,
   "id": "2cba4055-286d-4a65-a6a0-896cec91607e",
   "metadata": {},
   "outputs": [],
   "source": [
    "from sklearn.cluster import KMeans\n",
    "\n",
    "# Defining the K-Means model\n",
    "# Let's assume we want to group the users into 3 clusters for simplicity\n",
    "kmeans = KMeans(n_clusters=3, random_state=42)\n",
    "\n",
    "# Fitting the model on the scaled data\n",
    "kmeans.fit(scaled_data)\n",
    "\n",
    "# Predicting the cluster each user belongs to\n",
    "clusters = kmeans.predict(scaled_data)\n",
    "\n",
    "# Adding the cluster information to the original DataFrame\n",
    "data['cluster'] = clusters\n",
    "\n",
    "# Display the updated DataFrame\n",
    "data[['age', 'preference_1', 'preference_2', 'preference_3', 'preference_4', 'cluster']].head()\n",
    "\n"
   ]
  },
  {
   "cell_type": "code",
   "execution_count": null,
   "id": "1bad025a-d1ca-4652-bc87-6acb122a3147",
   "metadata": {},
   "outputs": [],
   "source": [
    "# Calculating the average preferences for each cluster\n",
    "cluster_means = data.groupby('cluster').mean()\n",
    "print(cluster_means)\n"
   ]
  },
  {
   "cell_type": "code",
   "execution_count": null,
   "id": "b7d9fd6e-dbfe-46bb-804f-38c384a5e91b",
   "metadata": {},
   "outputs": [],
   "source": [
    "def recommend_items(user_data, cluster_means):\n",
    "    # Get the user's cluster\n",
    "    user_cluster = user_data['cluster']\n",
    "    \n",
    "    # Get the average preferences for the user's cluster\n",
    "    recommended_preferences = cluster_means.loc[user_cluster]\n",
    "    \n",
    "    # Display recommendations\n",
    "    return recommended_preferences\n"
   ]
  },
  {
   "cell_type": "code",
   "execution_count": null,
   "id": "6b2934bc-efac-4d44-9fbb-3131aeeb00c6",
   "metadata": {},
   "outputs": [],
   "source": [
    "# Let's say we want to recommend items for the first user in the DataFrame\n",
    "user_to_recommend = data.iloc[0]\n",
    "\n",
    "# Get recommendations for this user\n",
    "recommendations = recommend_items(user_to_recommend, cluster_means)\n",
    "print(f\"Recommendations for User 0:\\n{recommendations}\")"
   ]
  }
 ],
 "metadata": {
  "kernelspec": {
   "display_name": "Python 3 (ipykernel)",
   "language": "python",
   "name": "python3"
  },
  "language_info": {
   "codemirror_mode": {
    "name": "ipython",
    "version": 3
   },
   "file_extension": ".py",
   "mimetype": "text/x-python",
   "name": "python",
   "nbconvert_exporter": "python",
   "pygments_lexer": "ipython3",
   "version": "3.12.6"
  }
 },
 "nbformat": 4,
 "nbformat_minor": 5
}
